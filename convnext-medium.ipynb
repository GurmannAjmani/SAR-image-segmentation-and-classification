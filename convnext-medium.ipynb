{
 "cells": [
  {
   "cell_type": "code",
   "execution_count": 1,
   "id": "66b9c2e0",
   "metadata": {
    "_cell_guid": "b1076dfc-b9ad-4769-8c92-a6c4dae69d19",
    "_uuid": "8f2839f25d086af736a60e9eeb907d3b93b6e0e5",
    "execution": {
     "iopub.execute_input": "2024-10-07T13:49:01.372146Z",
     "iopub.status.busy": "2024-10-07T13:49:01.371837Z",
     "iopub.status.idle": "2024-10-07T13:49:16.160930Z",
     "shell.execute_reply": "2024-10-07T13:49:16.160132Z"
    },
    "papermill": {
     "duration": 14.79612,
     "end_time": "2024-10-07T13:49:16.163766",
     "exception": false,
     "start_time": "2024-10-07T13:49:01.367646",
     "status": "completed"
    },
    "tags": []
   },
   "outputs": [],
   "source": [
    "import tensorflow as tf \n",
    "import matplotlib.pyplot as plt\n",
    "import pandas as pd\n",
    "import numpy as np\n",
    "import warnings\n",
    "from tensorflow.keras.models import Sequential,Model\n",
    "from tensorflow.keras.layers import Flatten,Dense,Flatten,Dropout,Conv2D,MaxPooling2D,Input\n",
    "warnings.filterwarnings(\"ignore\")\n",
    "from tensorflow.keras.preprocessing import image_dataset_from_directory\n",
    "from tensorflow.keras.applications import ConvNeXtSmall"
   ]
  },
  {
   "cell_type": "code",
   "execution_count": 2,
   "id": "8681ca99",
   "metadata": {
    "execution": {
     "iopub.execute_input": "2024-10-07T13:49:16.171110Z",
     "iopub.status.busy": "2024-10-07T13:49:16.170591Z",
     "iopub.status.idle": "2024-10-07T14:01:35.919148Z",
     "shell.execute_reply": "2024-10-07T14:01:35.918113Z"
    },
    "papermill": {
     "duration": 739.754569,
     "end_time": "2024-10-07T14:01:35.921496",
     "exception": false,
     "start_time": "2024-10-07T13:49:16.166927",
     "status": "completed"
    },
    "tags": []
   },
   "outputs": [
    {
     "name": "stdout",
     "output_type": "stream",
     "text": [
      "Found 324000 files belonging to 6 classes.\n",
      "Using 243000 files for training.\n",
      "Found 324000 files belonging to 6 classes.\n",
      "Using 81000 files for validation.\n"
     ]
    }
   ],
   "source": [
    "train_data = tf.keras.preprocessing.image_dataset_from_directory(\n",
    "    \"/kaggle/input/dl-classificatino-dataset/classification\", \n",
    "    batch_size=16, \n",
    "    image_size=(32, 32), \n",
    "    validation_split=0.25, \n",
    "    subset=\"training\", \n",
    "    seed=42\n",
    ")\n",
    "\n",
    "val_data = tf.keras.preprocessing.image_dataset_from_directory(\n",
    "    \"/kaggle/input/dl-classificatino-dataset/classification\", \n",
    "    batch_size=16, \n",
    "    image_size=(32, 32), \n",
    "    validation_split=0.25, \n",
    "    subset=\"validation\", \n",
    "    seed=42\n",
    ")\n"
   ]
  },
  {
   "cell_type": "code",
   "execution_count": 3,
   "id": "1690afd2",
   "metadata": {
    "execution": {
     "iopub.execute_input": "2024-10-07T14:01:35.929111Z",
     "iopub.status.busy": "2024-10-07T14:01:35.928804Z",
     "iopub.status.idle": "2024-10-07T14:01:39.288010Z",
     "shell.execute_reply": "2024-10-07T14:01:39.287216Z"
    },
    "papermill": {
     "duration": 3.36551,
     "end_time": "2024-10-07T14:01:39.290285",
     "exception": false,
     "start_time": "2024-10-07T14:01:35.924775",
     "status": "completed"
    },
    "tags": []
   },
   "outputs": [
    {
     "name": "stdout",
     "output_type": "stream",
     "text": [
      "Downloading data from https://storage.googleapis.com/tensorflow/keras-applications/convnext/convnext_small_notop.h5\n",
      "\u001b[1m198551472/198551472\u001b[0m \u001b[32m━━━━━━━━━━━━━━━━━━━━\u001b[0m\u001b[37m\u001b[0m \u001b[1m1s\u001b[0m 0us/step\n"
     ]
    }
   ],
   "source": [
    "conv=ConvNeXtSmall(input_shape=(32,32,3),include_top=False,weights=\"imagenet\")"
   ]
  },
  {
   "cell_type": "code",
   "execution_count": 4,
   "id": "d4451648",
   "metadata": {
    "execution": {
     "iopub.execute_input": "2024-10-07T14:01:39.301095Z",
     "iopub.status.busy": "2024-10-07T14:01:39.300807Z",
     "iopub.status.idle": "2024-10-07T14:01:39.308764Z",
     "shell.execute_reply": "2024-10-07T14:01:39.307998Z"
    },
    "papermill": {
     "duration": 0.015499,
     "end_time": "2024-10-07T14:01:39.310623",
     "exception": false,
     "start_time": "2024-10-07T14:01:39.295124",
     "status": "completed"
    },
    "tags": []
   },
   "outputs": [],
   "source": [
    "model=Sequential([\n",
    "    conv,\n",
    "    Flatten(),\n",
    "    Dense(128,activation=\"relu\"),\n",
    "    Dense(6,activation=\"softmax\")\n",
    "])"
   ]
  },
  {
   "cell_type": "code",
   "execution_count": 5,
   "id": "314a5bb6",
   "metadata": {
    "execution": {
     "iopub.execute_input": "2024-10-07T14:01:39.320536Z",
     "iopub.status.busy": "2024-10-07T14:01:39.320264Z",
     "iopub.status.idle": "2024-10-07T14:01:39.333147Z",
     "shell.execute_reply": "2024-10-07T14:01:39.332502Z"
    },
    "papermill": {
     "duration": 0.019986,
     "end_time": "2024-10-07T14:01:39.335056",
     "exception": false,
     "start_time": "2024-10-07T14:01:39.315070",
     "status": "completed"
    },
    "tags": []
   },
   "outputs": [],
   "source": [
    "model.compile(loss='sparse_categorical_crossentropy', optimizer='adam', metrics=['accuracy'])"
   ]
  },
  {
   "cell_type": "code",
   "execution_count": 6,
   "id": "ae8033a0",
   "metadata": {
    "execution": {
     "iopub.execute_input": "2024-10-07T14:01:39.346136Z",
     "iopub.status.busy": "2024-10-07T14:01:39.345872Z",
     "iopub.status.idle": "2024-10-07T15:40:08.640207Z",
     "shell.execute_reply": "2024-10-07T15:40:08.638900Z"
    },
    "papermill": {
     "duration": 5909.303298,
     "end_time": "2024-10-07T15:40:08.642821",
     "exception": false,
     "start_time": "2024-10-07T14:01:39.339523",
     "status": "completed"
    },
    "tags": []
   },
   "outputs": [
    {
     "name": "stdout",
     "output_type": "stream",
     "text": [
      "Epoch 1/10\n"
     ]
    },
    {
     "name": "stderr",
     "output_type": "stream",
     "text": [
      "WARNING: All log messages before absl::InitializeLog() is called are written to STDERR\n",
      "I0000 00:00:1728309747.894073      74 service.cc:145] XLA service 0x7b76a00059e0 initialized for platform CUDA (this does not guarantee that XLA will be used). Devices:\n",
      "I0000 00:00:1728309747.894133      74 service.cc:153]   StreamExecutor device (0): Tesla T4, Compute Capability 7.5\n",
      "I0000 00:00:1728309747.894137      74 service.cc:153]   StreamExecutor device (1): Tesla T4, Compute Capability 7.5\n",
      "WARNING: All log messages before absl::InitializeLog() is called are written to STDERR\n",
      "I0000 00:00:1728309775.953002     140 asm_compiler.cc:369] ptxas warning : Registers are spilled to local memory in function 'triton_gemm_dot_138', 3832 bytes spill stores, 6952 bytes spill loads\n",
      "\n"
     ]
    },
    {
     "name": "stdout",
     "output_type": "stream",
     "text": [
      "\u001b[1m    1/15188\u001b[0m \u001b[37m━━━━━━━━━━━━━━━━━━━━\u001b[0m \u001b[1m395:19:24\u001b[0m 94s/step - accuracy: 0.2500 - loss: 2.0958"
     ]
    },
    {
     "name": "stderr",
     "output_type": "stream",
     "text": [
      "I0000 00:00:1728309792.910308      74 asm_compiler.cc:369] ptxas warning : Registers are spilled to local memory in function 'loop_add_subtract_fusion_97', 160 bytes spill stores, 160 bytes spill loads\n",
      "\n",
      "I0000 00:00:1728309792.961134      74 device_compiler.h:188] Compiled cluster using XLA!  This line is logged at most once for the lifetime of the process.\n"
     ]
    },
    {
     "name": "stdout",
     "output_type": "stream",
     "text": [
      "\u001b[1m15186/15188\u001b[0m \u001b[32m━━━━━━━━━━━━━━━━━━━\u001b[0m\u001b[37m━\u001b[0m \u001b[1m0s\u001b[0m 34ms/step - accuracy: 0.9637 - loss: 0.1162"
     ]
    },
    {
     "name": "stderr",
     "output_type": "stream",
     "text": [
      "I0000 00:00:1728310328.060671     191 asm_compiler.cc:369] ptxas warning : Registers are spilled to local memory in function 'triton_gemm_dot_12', 16 bytes spill stores, 16 bytes spill loads\n",
      "\n",
      "I0000 00:00:1728310333.012452     190 asm_compiler.cc:369] ptxas warning : Registers are spilled to local memory in function 'triton_gemm_dot_138', 3832 bytes spill stores, 6952 bytes spill loads\n",
      "\n"
     ]
    },
    {
     "name": "stdout",
     "output_type": "stream",
     "text": [
      "\u001b[1m15188/15188\u001b[0m \u001b[32m━━━━━━━━━━━━━━━━━━━━\u001b[0m\u001b[37m\u001b[0m \u001b[1m0s\u001b[0m 37ms/step - accuracy: 0.9637 - loss: 0.1162"
     ]
    },
    {
     "name": "stderr",
     "output_type": "stream",
     "text": [
      "I0000 00:00:1728310349.495078      76 asm_compiler.cc:369] ptxas warning : Registers are spilled to local memory in function 'loop_add_subtract_fusion_90', 160 bytes spill stores, 160 bytes spill loads\n",
      "\n"
     ]
    },
    {
     "name": "stdout",
     "output_type": "stream",
     "text": [
      "\u001b[1m15188/15188\u001b[0m \u001b[32m━━━━━━━━━━━━━━━━━━━━\u001b[0m\u001b[37m\u001b[0m \u001b[1m802s\u001b[0m 47ms/step - accuracy: 0.9637 - loss: 0.1161 - val_accuracy: 0.9899 - val_loss: 0.0350\n",
      "Epoch 2/10\n",
      "\u001b[1m15188/15188\u001b[0m \u001b[32m━━━━━━━━━━━━━━━━━━━━\u001b[0m\u001b[37m\u001b[0m \u001b[1m565s\u001b[0m 37ms/step - accuracy: 0.9872 - loss: 0.0405 - val_accuracy: 0.9895 - val_loss: 0.0396\n",
      "Epoch 3/10\n",
      "\u001b[1m15188/15188\u001b[0m \u001b[32m━━━━━━━━━━━━━━━━━━━━\u001b[0m\u001b[37m\u001b[0m \u001b[1m569s\u001b[0m 37ms/step - accuracy: 0.9916 - loss: 0.0258 - val_accuracy: 0.9959 - val_loss: 0.0128\n",
      "Epoch 4/10\n",
      "\u001b[1m15188/15188\u001b[0m \u001b[32m━━━━━━━━━━━━━━━━━━━━\u001b[0m\u001b[37m\u001b[0m \u001b[1m570s\u001b[0m 38ms/step - accuracy: 0.9940 - loss: 0.0177 - val_accuracy: 0.9929 - val_loss: 0.0198\n",
      "Epoch 5/10\n",
      "\u001b[1m15188/15188\u001b[0m \u001b[32m━━━━━━━━━━━━━━━━━━━━\u001b[0m\u001b[37m\u001b[0m \u001b[1m568s\u001b[0m 37ms/step - accuracy: 0.9957 - loss: 0.0136 - val_accuracy: 0.9969 - val_loss: 0.0123\n",
      "Epoch 6/10\n",
      "\u001b[1m15188/15188\u001b[0m \u001b[32m━━━━━━━━━━━━━━━━━━━━\u001b[0m\u001b[37m\u001b[0m \u001b[1m573s\u001b[0m 38ms/step - accuracy: 0.9965 - loss: 0.0109 - val_accuracy: 0.9955 - val_loss: 0.0134\n",
      "Epoch 7/10\n",
      "\u001b[1m15188/15188\u001b[0m \u001b[32m━━━━━━━━━━━━━━━━━━━━\u001b[0m\u001b[37m\u001b[0m \u001b[1m568s\u001b[0m 37ms/step - accuracy: 0.9967 - loss: 0.0106 - val_accuracy: 0.9954 - val_loss: 0.0149\n",
      "Epoch 8/10\n",
      "\u001b[1m15188/15188\u001b[0m \u001b[32m━━━━━━━━━━━━━━━━━━━━\u001b[0m\u001b[37m\u001b[0m \u001b[1m564s\u001b[0m 37ms/step - accuracy: 0.9972 - loss: 0.0086 - val_accuracy: 0.9971 - val_loss: 0.0091\n",
      "Epoch 9/10\n",
      "\u001b[1m15188/15188\u001b[0m \u001b[32m━━━━━━━━━━━━━━━━━━━━\u001b[0m\u001b[37m\u001b[0m \u001b[1m566s\u001b[0m 37ms/step - accuracy: 0.9975 - loss: 0.0079 - val_accuracy: 0.9952 - val_loss: 0.0168\n",
      "Epoch 10/10\n",
      "\u001b[1m15188/15188\u001b[0m \u001b[32m━━━━━━━━━━━━━━━━━━━━\u001b[0m\u001b[37m\u001b[0m \u001b[1m566s\u001b[0m 37ms/step - accuracy: 0.9980 - loss: 0.0070 - val_accuracy: 0.9977 - val_loss: 0.0079\n"
     ]
    }
   ],
   "source": [
    "history=model.fit(train_data,epochs=10,validation_data=val_data,batch_size=16)"
   ]
  },
  {
   "cell_type": "code",
   "execution_count": 7,
   "id": "cb3fb4d2",
   "metadata": {
    "execution": {
     "iopub.execute_input": "2024-10-07T15:40:21.469795Z",
     "iopub.status.busy": "2024-10-07T15:40:21.469378Z",
     "iopub.status.idle": "2024-10-07T15:40:24.185381Z",
     "shell.execute_reply": "2024-10-07T15:40:24.184453Z"
    },
    "papermill": {
     "duration": 9.138403,
     "end_time": "2024-10-07T15:40:24.187602",
     "exception": false,
     "start_time": "2024-10-07T15:40:15.049199",
     "status": "completed"
    },
    "tags": []
   },
   "outputs": [],
   "source": [
    "model.save(\"ConvSmall_classification.keras\")"
   ]
  },
  {
   "cell_type": "code",
   "execution_count": 8,
   "id": "3eaab608",
   "metadata": {
    "execution": {
     "iopub.execute_input": "2024-10-07T15:40:37.011385Z",
     "iopub.status.busy": "2024-10-07T15:40:37.010477Z",
     "iopub.status.idle": "2024-10-07T15:40:37.301120Z",
     "shell.execute_reply": "2024-10-07T15:40:37.300176Z"
    },
    "papermill": {
     "duration": 6.678198,
     "end_time": "2024-10-07T15:40:37.303092",
     "exception": false,
     "start_time": "2024-10-07T15:40:30.624894",
     "status": "completed"
    },
    "tags": []
   },
   "outputs": [
    {
     "data": {
      "image/png": "[encoded data removed]",
      "text/plain": [
       "<Figure size 640x480 with 1 Axes>"
      ]
     },
     "metadata": {},
     "output_type": "display_data"
    }
   ],
   "source": [
    "plt.plot(history.history[\"accuracy\"],label=\"training accuracy\")\n",
    "plt.plot(history.history[\"val_accuracy\"],label=\"validation accuracy\")\n",
    "plt.legend()\n",
    "plt.show()"
   ]
  },
  {
   "cell_type": "code",
   "execution_count": 9,
   "id": "8cc18edf",
   "metadata": {
    "execution": {
     "iopub.execute_input": "2024-10-07T15:40:49.963805Z",
     "iopub.status.busy": "2024-10-07T15:40:49.963373Z",
     "iopub.status.idle": "2024-10-07T15:40:50.209370Z",
     "shell.execute_reply": "2024-10-07T15:40:50.208532Z"
    },
    "papermill": {
     "duration": 6.587389,
     "end_time": "2024-10-07T15:40:50.211367",
     "exception": false,
     "start_time": "2024-10-07T15:40:43.623978",
     "status": "completed"
    },
    "tags": []
   },
   "outputs": [
    {
     "data": {
      "image/png": "[encoded data removed]",
      "text/plain": [
       "<Figure size 640x480 with 1 Axes>"
      ]
     },
     "metadata": {},
     "output_type": "display_data"
    }
   ],
   "source": [
    "plt.plot(history.history[\"loss\"],label=\"training loss\")\n",
    "plt.plot(history.history[\"val_loss\"],label=\"validation loss\")\n",
    "plt.legend()\n",
    "plt.show()"
   ]
  }
 ],
 "metadata": {
  "kaggle": {
   "accelerator": "nvidiaTeslaT4",
   "dataSources": [
    {
     "datasetId": 5825426,
     "sourceId": 9559689,
     "sourceType": "datasetVersion"
    }
   ],
   "isGpuEnabled": true,
   "isInternetEnabled": true,
   "language": "python",
   "sourceType": "notebook"
  },
  "kernelspec": {
   "display_name": "Python 3",
   "language": "python",
   "name": "python3"
  },
  "language_info": {
   "codemirror_mode": {
    "name": "ipython",
    "version": 3
   },
   "file_extension": ".py",
   "mimetype": "text/x-python",
   "name": "python",
   "nbconvert_exporter": "python",
   "pygments_lexer": "ipython3",
   "version": "3.10.14"
  },
  "papermill": {
   "default_parameters": {},
   "duration": 6721.877142,
   "end_time": "2024-10-07T15:41:00.185336",
   "environment_variables": {},
   "exception": null,
   "input_path": "__notebook__.ipynb",
   "output_path": "__notebook__.ipynb",
   "parameters": {},
   "start_time": "2024-10-07T13:48:58.308194",
   "version": "2.6.0"
  }
 },
 "nbformat": 4,
 "nbformat_minor": 5
}
